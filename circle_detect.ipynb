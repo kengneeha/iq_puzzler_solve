{
 "cells": [
  {
   "cell_type": "code",
   "execution_count": 5,
   "id": "ed01910d-4ef6-4240-b2e8-6820221b9b41",
   "metadata": {},
   "outputs": [
    {
     "name": "stdout",
     "output_type": "stream",
     "text": [
      "[['0', '0', '0', '0', '0', '0', 'X', 'X', 'X', 'X', 'X'], ['0', '0', '0', '0', '0', 'X', 'X', 'X', 'X', 'X', 'X'], ['0', '0', '0', '0', '0', 'X', 'X', 'X', 'X', 'X', 'X'], ['0', '0', '0', '0', 'X', 'X', 'X', 'X', 'X', 'X', 'X'], ['0', '0', '0', '0', 'X', 'X', 'X', 'X', 'X', 'X', 'X']]\n"
     ]
    }
   ],
   "source": [
    "import cv2 as cv\n",
    "import numpy as np\n",
    "cropped = cv.imread(\"./pic/test/area/area_5.jpg\")\n",
    "img2 = cropped.copy()\n",
    "gray = cv.cvtColor(cropped, cv.COLOR_BGR2GRAY)\n",
    "gray = cv.GaussianBlur(gray, (7, 7), 1.5)\n",
    "circles = cv.HoughCircles(gray, cv.HOUGH_GRADIENT, 1.5, 50, param1=50, param2=25, minRadius=30, maxRadius=50)\n",
    "circles = np.uint16(np.around(circles))\n",
    "name, none = 'X', '0'\n",
    "rows, cols = 5, 11\n",
    "height, width = cropped.shape[:2]\n",
    "cell_height, cell_width = height // rows + 1, width // cols + 1\n",
    "grid_matrix = np.full((rows, cols), none, dtype=str)\n",
    "\n",
    "for i in circles[0, :]:\n",
    "    center, radius = (i[0], i[1]), i[2]\n",
    "    area_circle = np.pi * radius ** 2\n",
    "    row_index, col_index = center[1] // cell_height, center[0] // cell_width\n",
    "    if area_circle > 4700:\n",
    "        cv.circle(img2, center, radius, (0, 255, 0), 2)\n",
    "        cv.circle(img2, center, 1, (0, 0, 255), 1)\n",
    "        grid_matrix[row_index, col_index] = name\n",
    "        \n",
    "result_list = grid_matrix.tolist()\n",
    "print(result_list)\n",
    "cv.imshow('Result', img2)\n",
    "cv.waitKey(0)\n",
    "cv.destroyAllWindows()"
   ]
  }
 ],
 "metadata": {
  "kernelspec": {
   "display_name": "Python 3 (ipykernel)",
   "language": "python",
   "name": "python3"
  },
  "language_info": {
   "codemirror_mode": {
    "name": "ipython",
    "version": 3
   },
   "file_extension": ".py",
   "mimetype": "text/x-python",
   "name": "python",
   "nbconvert_exporter": "python",
   "pygments_lexer": "ipython3",
   "version": "3.9.9"
  }
 },
 "nbformat": 4,
 "nbformat_minor": 5
}
