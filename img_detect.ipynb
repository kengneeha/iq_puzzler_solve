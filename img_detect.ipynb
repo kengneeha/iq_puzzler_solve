{
 "cells": [
  {
   "cell_type": "code",
   "execution_count": 3,
   "id": "7f62609e-7ddb-4a67-8726-74dd5f67f3e4",
   "metadata": {},
   "outputs": [
    {
     "name": "stdout",
     "output_type": "stream",
     "text": [
      "loading Roboflow workspace...\n",
      "loading Roboflow project...\n",
      "{\"predictions\": [{\"x\": 260.5, \"y\": 313.5, \"width\": 197.0, \"height\": 221.0, \"confidence\": 0.9251933097839355, \"class\": \"C_orange_dot\", \"class_id\": 2, \"image_path\": \"./pic/test/block/block_3.jpg\", \"prediction_type\": \"ObjectDetectionModel\"}, {\"x\": 496.0, \"y\": 154.5, \"width\": 256.0, \"height\": 161.0, \"confidence\": 0.8809729814529419, \"class\": \"E_blue_dot\", \"class_id\": 4, \"image_path\": \"./pic/test/block/block_3.jpg\", \"prediction_type\": \"ObjectDetectionModel\"}, {\"x\": 482.5, \"y\": 310.5, \"width\": 227.0, \"height\": 141.0, \"confidence\": 0.8667627573013306, \"class\": \"J_green_dot\", \"class_id\": 9, \"image_path\": \"./pic/test/block/block_3.jpg\", \"prediction_type\": \"ObjectDetectionModel\"}, {\"x\": 88.0, \"y\": 235.0, \"width\": 172.0, \"height\": 202.0, \"confidence\": 0.7556368112564087, \"class\": \"A_light_blue_dot\", \"class_id\": 0, \"image_path\": \"./pic/test/block/block_3.jpg\", \"prediction_type\": \"ObjectDetectionModel\"}, {\"x\": 285.0, \"y\": 89.0, \"width\": 226.0, \"height\": 162.0, \"confidence\": 0.737105131149292, \"class\": \"L_yellow_dot\", \"class_id\": 11, \"image_path\": \"./pic/test/block/block_3.jpg\", \"prediction_type\": \"ObjectDetectionModel\"}], \"image\": {\"width\": \"640\", \"height\": \"480\"}}\n",
      "{'A': array([[1, 1, 0],\n",
      "       [1, 1, 1]]), 'C': array([[0, 1, 1],\n",
      "       [1, 1, 0],\n",
      "       [0, 1, 0]]), 'E': array([[1, 1, 1, 1],\n",
      "       [0, 1, 0, 0]]), 'J': array([[0, 0, 1],\n",
      "       [1, 1, 1]]), 'L': array([[1, 0, 1],\n",
      "       [1, 1, 1]])}\n"
     ]
    }
   ],
   "source": [
    "\n",
    "import numpy as np\n",
    "import json\n",
    "from roboflow import Roboflow\n",
    " \n",
    "rf = Roboflow(api_key=\"mg8d8MEBGoGh7NAQG7j4\")\n",
    "project = rf.workspace().project(\"iq_puzzle\")\n",
    "model = project.version(4).model\n",
    "json_result = model.predict(\"./pic/test/block/block_5.jpg\", confidence=30, overlap=30).json()\n",
    "str_result = json.dumps(json_result)\n",
    "print(str_result)\n",
    "model.predict(\"./pic/test/block/block_5.jpg\", confidence=40, overlap=30).save(\"prediction.jpg\")\n",
    "A_light_blue_dot = np.array([[1, 1, 0], [1, 1, 1]])\n",
    "B_light_blue = np.array([[0, 1, 1, 1], [1, 1, 0, 0]])\n",
    "C_orange_dot = np.array([[0, 1, 1], [1, 1, 0], [0, 1, 0]])\n",
    "D_blue = np.array([[1, 1, 1, 1], [1, 0, 0, 0]])\n",
    "E_blue_dot = np.array([[1, 1, 1, 1], [0, 1, 0, 0]])\n",
    "F_light_green_dot = np.array([[1, 1, 0], [0, 1, 1]])\n",
    "G_orange = np.array([[0, 0, 1], [0, 0, 1], [1, 1, 1]])\n",
    "H_light_green = np.array([[0, 1, 0], [1, 1, 1]])\n",
    "I_green = np.array([[1, 1], [0, 1]])\n",
    "J_green_dot = np.array([[0, 0, 1], [1, 1, 1]])\n",
    "K_yellow = np.array([[0, 0, 1], [0, 1, 1], [1, 1, 0]])\n",
    "L_yellow_dot = np.array([[1, 0, 1], [1, 1, 1]])\n",
    "\n",
    "word_matrices = {\n",
    "    \"A\" : A_light_blue_dot,\"B\" : B_light_blue,\"C\" : C_orange_dot,\"D_\": D_blue,\"E\": E_blue_dot,\"F\" : F_light_green_dot,\n",
    "    \"G\" : G_orange,\"H\" : H_light_green,\"I\": I_green,\"J\": J_green_dot,\"K\" : K_yellow,\"L\" : L_yellow_dot\n",
    "}\n",
    "\n",
    "word_list = [\"A\",\"B\",\"C\",\"D_\",\"E\",\"F\",\"G\",\"H\",\"I\",\"J\",\"K\",\"L\"]\n",
    "\n",
    "result_word = [word for word in word_matrices if word in str_result]\n",
    "result_dict = {word: word_matrices.get(word) for word in result_word}\n",
    "print(result_dict)\n"
   ]
  }
 ],
 "metadata": {
  "kernelspec": {
   "display_name": "Python 3 (ipykernel)",
   "language": "python",
   "name": "python3"
  },
  "language_info": {
   "codemirror_mode": {
    "name": "ipython",
    "version": 3
   },
   "file_extension": ".py",
   "mimetype": "text/x-python",
   "name": "python",
   "nbconvert_exporter": "python",
   "pygments_lexer": "ipython3",
   "version": "3.9.9"
  }
 },
 "nbformat": 4,
 "nbformat_minor": 5
}
